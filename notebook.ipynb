{
 "cells": [
  {
   "cell_type": "code",
   "execution_count": 12,
   "metadata": {},
   "outputs": [
    {
     "name": "stdout",
     "output_type": "stream",
     "text": [
      "[ INFO ] Initializing plugin for CPU device...\n",
      "[ INFO ] Reading IR...\n",
      "classifier.py:107: DeprecationWarning: 'inputs' property of IENetwork class is deprecated. To access DataPtrs user need to use 'input_data' property of InputInfoPtr objects which can be accessed by 'input_info' property.\n",
      "  input_blob = next(iter(net.inputs))\n",
      "[ INFO ] Loading model to the plugin\n",
      "Preparing input blobs\n",
      "Batch size is 10000\n",
      "Running inference: Batch 1\n",
      "Correct 9873\n",
      "Wrong 127\n",
      "Accuracy: 0.9873\n",
      "Average running time of one batch: 207.97109603881836 ms\n",
      "Total running time of inference: 207.97109603881836 ms\n",
      "Throughput: 48083.60483965269 FPS\n",
      "Processor: x86_64\n",
      "\n",
      "\n"
     ]
    }
   ],
   "source": [
    "!python3 classifier.py -m 10000mnist32.xml -b 10000"
   ]
  },
  {
   "cell_type": "code",
   "execution_count": 60,
   "metadata": {},
   "outputs": [
    {
     "name": "stdout",
     "output_type": "stream",
     "text": [
      "44417.v-qsvr-1.devcloud-edge\r\n"
     ]
    }
   ],
   "source": [
    "#!qsub classy.sh  -l nodes=1:e3-1268l-v5 -F \"1000 CPU\" -N gold \n",
    "!qsub classy.sh -l nodes=1:i5-6500te:intel-hd-530 -F \"1000 GPU\" -N largeGPU\n",
    "#!qsub classy.sh -l nodes=1:i5-6500te:hddl-f -F \"1000 FPGA\" -N fpga"
   ]
  },
  {
   "cell_type": "code",
   "execution_count": 61,
   "metadata": {},
   "outputs": [
    {
     "name": "stdout",
     "output_type": "stream",
     "text": [
      "Job ID                    Name             User            Time Use S Queue\r\n",
      "------------------------- ---------------- --------------- -------- - -----\r\n",
      "44417.v-qsvr-1             largeGPU         u44511                 0 R batch          \r\n"
     ]
    }
   ],
   "source": [
    "!qstat"
   ]
  },
  {
   "cell_type": "code",
   "execution_count": 6,
   "metadata": {},
   "outputs": [
    {
     "name": "stdout",
     "output_type": "stream",
     "text": [
      "\r\n",
      "########################################################################\r\n",
      "#      Date:           Wed Aug 12 14:06:24 PDT 2020\r\n",
      "#    Job ID:           44417.v-qsvr-1.devcloud-edge\r\n",
      "#      User:           u44511\r\n",
      "# Resources:           neednodes=1:i5-6500te:intel-hd-530,nodes=1:i5-6500te:intel-hd-530,walltime=01:00:00\r\n",
      "########################################################################\r\n",
      "\r\n",
      "[setupvars.sh] OpenVINO environment initialized\r\n",
      "hello\r\n",
      "\r\n",
      "########################################################################\r\n",
      "# End of output for job 44417.v-qsvr-1.devcloud-edge\r\n",
      "# Date: Wed Aug 12 14:06:29 PDT 2020\r\n",
      "########################################################################\r\n",
      "\r\n",
      "USER_ID=[u44511]\r\n",
      "JOB_ID=[44417]\r\n",
      "JOB_RUNTIME=[3]\r\n",
      "FROM_TIME=[1597266387]\r\n",
      "TO_TIME=[1597266390]\r\n",
      "HOST_TYPE=[idc001skl_compnode_iei_tank-870_intel-core_i5-6500te_skylake_intel-hd-530_ram8gb_net1gbe]\r\n",
      "EDGE_NAME=[s001-n002]\r\n",
      "INTEL_SKU=[core-i5]\r\n",
      "skipping application metrics\r\n",
      "skipping telemetry\r\n"
     ]
    }
   ],
   "source": [
    "!cat largeGPU.o44417"
   ]
  },
  {
   "cell_type": "code",
   "execution_count": null,
   "metadata": {},
   "outputs": [],
   "source": []
  }
 ],
 "metadata": {
  "kernelspec": {
   "display_name": "Python 3 (OpenVINO)",
   "language": "python",
   "name": "c003-python_3"
  },
  "language_info": {
   "codemirror_mode": {
    "name": "ipython",
    "version": 3
   },
   "file_extension": ".py",
   "mimetype": "text/x-python",
   "name": "python",
   "nbconvert_exporter": "python",
   "pygments_lexer": "ipython3",
   "version": "3.6.9"
  },
  "toc": {
   "base_numbering": 1,
   "nav_menu": {},
   "number_sections": true,
   "sideBar": true,
   "skip_h1_title": false,
   "title_cell": "Table of Contents",
   "title_sidebar": "Contents",
   "toc_cell": false,
   "toc_position": {},
   "toc_section_display": true,
   "toc_window_display": false
  }
 },
 "nbformat": 4,
 "nbformat_minor": 2
}
